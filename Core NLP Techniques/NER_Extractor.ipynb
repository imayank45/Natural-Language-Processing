{
  "nbformat": 4,
  "nbformat_minor": 0,
  "metadata": {
    "colab": {
      "provenance": []
    },
    "kernelspec": {
      "name": "python3",
      "display_name": "Python 3"
    },
    "language_info": {
      "name": "python"
    }
  },
  "cells": [
    {
      "cell_type": "code",
      "execution_count": 1,
      "metadata": {
        "id": "A8dgOkVFhSEy"
      },
      "outputs": [],
      "source": [
        "import spacy\n",
        "import requests\n",
        "from bs4 import BeautifulSoup\n",
        "import matplotlib.pyplot as plt\n",
        "from collections import Counter\n"
      ]
    },
    {
      "cell_type": "code",
      "source": [
        "# Load spaCy's English language model\n",
        "nlp = spacy.load(\"en_core_web_sm\")\n",
        "\n",
        "# Function to extract entities from text\n",
        "def extract_entities(text):\n",
        "    doc = nlp(text)\n",
        "    entities = [(ent.text, ent.label_) for ent in doc.ents]\n",
        "    return entities\n"
      ],
      "metadata": {
        "id": "o5Y6dxz8hdWp"
      },
      "execution_count": 2,
      "outputs": []
    },
    {
      "cell_type": "code",
      "source": [
        "# Function to fetch text content from a webpage\n",
        "def scrape_webpage(url):\n",
        "    response = requests.get(url)\n",
        "    soup = BeautifulSoup(response.text, 'html.parser')\n",
        "\n",
        "    # Extract text from paragraphs\n",
        "    paragraphs = soup.find_all('p')\n",
        "    text = ' '.join([para.get_text() for para in paragraphs])\n",
        "\n",
        "    return text\n"
      ],
      "metadata": {
        "id": "EJ4zjicHheZ-"
      },
      "execution_count": 3,
      "outputs": []
    },
    {
      "cell_type": "code",
      "source": [
        "# Function to visualize entity distribution\n",
        "def visualize_entities(entities):\n",
        "    # Count entity types\n",
        "    entity_counts = Counter([label for _, label in entities])\n",
        "\n",
        "    # Plot the bar chart\n",
        "    plt.figure(figsize=(8, 5))\n",
        "    plt.bar(entity_counts.keys(), entity_counts.values(), color='teal')\n",
        "    plt.title(\"Entity Type Distribution\")\n",
        "    plt.xlabel(\"Entity Types\")\n",
        "    plt.ylabel(\"Count\")\n",
        "    plt.xticks(rotation=45)\n",
        "    plt.show()\n"
      ],
      "metadata": {
        "id": "IyfskNj_hf0e"
      },
      "execution_count": 4,
      "outputs": []
    },
    {
      "cell_type": "code",
      "source": [
        "# User Input or Webpage\n",
        "choice = input(\"Enter '1' for text input or '2' for webpage scraping: \")\n",
        "\n",
        "if choice == '1':\n",
        "    text = input(\"Enter your text for NER extraction:\\n\")\n",
        "elif choice == '2':\n",
        "    url = input(\"Enter the URL of the webpage: \")\n",
        "    text = scrape_webpage(url)\n",
        "else:\n",
        "    print(\"Invalid choice. Exiting...\")\n",
        "    exit()\n",
        "\n",
        "# Extract and display entities\n",
        "entities = extract_entities(text)\n",
        "print(\"\\nExtracted Entities:\")\n",
        "for entity, label in entities:\n",
        "    print(f\"{entity} --> {label}\")\n",
        "\n",
        "# Visualize entity distribution\n",
        "visualize_entities(entities)\n"
      ],
      "metadata": {
        "colab": {
          "base_uri": "https://localhost:8080/",
          "height": 907
        },
        "id": "qdlaNblBhh7D",
        "outputId": "b7b776b6-6276-43d0-c0c8-9b9d4e25d9c4"
      },
      "execution_count": 6,
      "outputs": [
        {
          "output_type": "stream",
          "name": "stdout",
          "text": [
            "Enter '1' for text input or '2' for webpage scraping: 1\n",
            "Enter your text for NER extraction:\n",
            "The Forgotten Letter  A dusty box sat untouched in the corner of Aarav's attic. He wasn’t one for nostalgia, but after his grandmother's passing, the house felt quieter — like it was waiting for something. On a restless evening, Aarav climbed the creaky steps to the attic and opened the box.  Inside were yellowed papers, a rusted locket, and an envelope marked \"For Aarav\" in his grandmother’s handwriting. Curious, he tore it open.  \"My dearest Aarav, If you're reading this, it means I’m gone. But there’s something I never told you...  The letter revealed a family secret — his grandmother once had a twin sister, Meera, who had vanished at the age of 18. No one knew what had happened, but the letter hinted at an old bookstore on the outskirts of Pune — the last place Meera was seen.  The next day, Aarav found himself outside the bookstore. It smelled of ink and aging paper. An elderly woman sat at the counter, her silver hair neatly tied back.  \"Looking for something?\" she asked.  \"Not something... someone,\" Aarav replied, unfolding the letter.  The woman’s eyes widened. \"I knew your grandmother,\" she whispered. \"She never stopped looking for me... I was too ashamed to return.\"  It was Meera.  Tears blurred Aarav’s vision as he hugged the woman who had been a ghost in his family’s stories. That evening, they sat together for hours, sharing memories that were never meant to be forgotten.\n",
            "\n",
            "Extracted Entities:\n",
            "Aarav --> ORG\n",
            "a restless evening --> TIME\n",
            "Aarav --> ORG\n",
            "Aarav --> ORG\n",
            "Aarav --> PERSON\n",
            "Meera --> PERSON\n",
            "the age of 18 --> DATE\n",
            "Pune --> LOC\n",
            "Meera --> PERSON\n",
            "The next day --> DATE\n",
            "Aarav --> ORG\n",
            "Aarav --> ORG\n",
            "Meera --> PERSON\n",
            "Aarav --> ORG\n",
            "That evening --> TIME\n",
            "hours --> TIME\n"
          ]
        },
        {
          "output_type": "display_data",
          "data": {
            "text/plain": [
              "<Figure size 800x500 with 1 Axes>"
            ],
            "image/png": "[encoded data removed]"
          },
          "metadata": {}
        }
      ]
    },
    {
      "cell_type": "code",
      "source": [],
      "metadata": {
        "id": "ds3AAH-DhjHv"
      },
      "execution_count": 5,
      "outputs": []
    }
  ]
}